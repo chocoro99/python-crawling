{
 "cells": [
  {
   "cell_type": "code",
   "execution_count": null,
   "metadata": {},
   "outputs": [],
   "source": [
    "# 사용 사이트 : https://www.latale.com/Main\n",
    "# 크롤링 내용 : 매거진 - GM수첩, 업데이트 - 뉴스타일"
   ]
  },
  {
   "cell_type": "code",
   "execution_count": 5,
   "metadata": {},
   "outputs": [
    {
     "name": "stdout",
     "output_type": "stream",
     "text": [
      "7월의 베스트 팬아트 7월의 베스트 팬아트 선정 안내\n",
      "상반기 베스트 만화 상반기 베스트 만화 선정 안내\n",
      "6월의 베스트 팬아트 6월의 베스트 팬아트 선정 안내\n",
      "5월의 베스트 팬아트 5월의 베스트 팬아트 선정 안내\n",
      "4월의 베스트 팬아트 4월의 베스트 팬아트 선정 안내\n",
      "라린이 문의 BEST 7!                                        \n",
      "Hot 모든 게 낯선 신규 가족님들의 문의 내용 BEST 7!!\n",
      "3월의 베스트 팬아트 3월의 베스트 팬아트 선정 안내\n",
      "2월의 베스트 팬아트 2월의 베스트 팬아트 선정 안내\n",
      "1월의 베스트 팬아트 1월의 베스트 팬아트 선정 안내\n"
     ]
    }
   ],
   "source": [
    "from urllib import request\n",
    "from bs4 import BeautifulSoup\n",
    "\n",
    "target = request.urlopen(\"https://www.latale.com/magazine/gmnote\")\n",
    "soup = BeautifulSoup(target, \"html.parser\")\n",
    "select_list = soup.select(\"#board > div.board-list > table > tbody > tr > td > article > a\")    \n",
    "\n",
    "#print(select_list[3])\n",
    "\n",
    "for gm in select_list:\n",
    "    content = gm.find(\"div\", class_=\"content\").string.strip()\n",
    "    subject = gm.find(\"div\", class_=\"subject\").get_text().strip()\n",
    "    print(subject, content)"
   ]
  },
  {
   "cell_type": "code",
   "execution_count": 153,
   "metadata": {},
   "outputs": [
    {
     "name": "stdout",
     "output_type": "stream",
     "text": [
      "NEW STYLE [2022.08] 나비꽃 2022년 8월 뉴스타일\n",
      "NEW STYLE [2022.07] 트로피컬 파티&게이트키퍼 7월 NEW STYLE\n",
      "NEW STYLE&HAIR [2022.06] 카페에서 6월 NEW STYLE&HAIR                                        \n",
      "Hot\n",
      "NEW STYLE [2022.04] 봄날의 플라워 패션 4월 NEW STYLE                                        \n",
      "Hot\n",
      "NEW STYLE [2022.03] 레이스 프린스&프린세스 3월 NEW STYLE                                        \n",
      "Hot\n",
      "NEW STYLE [2022.01] 레이니아 1월 NEW STYLE                                        \n",
      "Hot\n",
      "NEW STYLE [2021.12] 윈디아&윈터리아 12월 NEW STYLE                                        \n",
      "Hot\n",
      "NEW STYLE [2021.09] 쿨&시크 크롭자켓 9월 NEW STYLE                                        \n",
      "Hot\n"
     ]
    }
   ],
   "source": [
    "from urllib import request\n",
    "from bs4 import BeautifulSoup\n",
    "\n",
    "target = request.urlopen(\"https://www.latale.com/news/newstyle\")\n",
    "soup = BeautifulSoup(target, \"html.parser\")\n",
    "select_list = soup.select(\"#board > div.board-list > table > tbody > tr > td > article\")\n",
    "\n",
    "for news in select_list:\n",
    "    tyle = news.find(\"div\", class_=\"newstyle\").string.strip()\n",
    "    subject = news.find(\"div\", class_=\"subject\").get_text().strip()\n",
    "\n",
    "    print(tyle, subject)"
   ]
  }
 ],
 "metadata": {
  "kernelspec": {
   "display_name": "Python 3.10.6 64-bit",
   "language": "python",
   "name": "python3"
  },
  "language_info": {
   "codemirror_mode": {
    "name": "ipython",
    "version": 3
   },
   "file_extension": ".py",
   "mimetype": "text/x-python",
   "name": "python",
   "nbconvert_exporter": "python",
   "pygments_lexer": "ipython3",
   "version": "3.10.6"
  },
  "orig_nbformat": 4,
  "vscode": {
   "interpreter": {
    "hash": "c3fab59af8123f9cfec183dc028d1fc14b465e0637f838ba64851bcf78e06788"
   }
  }
 },
 "nbformat": 4,
 "nbformat_minor": 2
}
