{
 "cells": [
  {
   "cell_type": "code",
   "execution_count": null,
   "metadata": {},
   "outputs": [],
   "source": [
    "# 사용 사이트 : https://er.game.daum.net/guide/about\n",
    "# 크롤링 내용 : 가이드 - 게임소개, 새소식 - 캐릭터소식"
   ]
  },
  {
   "cell_type": "code",
   "execution_count": 56,
   "metadata": {},
   "outputs": [
    {
     "name": "stdout",
     "output_type": "stream",
     "text": [
      "이터널 리턴이란?\n",
      "이터널 리턴은 쿼터뷰 형식의 전투스타일과 배틀로얄, 그리고 독특한 크래프팅 시스템이 합쳐진 신감각 서바이벌 게임입니다.\n",
      "\n",
      "제작, 전투, 그리고 생존\n",
      "세상과는 떨어진 섬 루미아에서, 과학 집단 아글라이아가 인간을 대상으로 신인류가 되기 위한 비밀스러운 생존 실험을 벌입니다. 생존에 필요한 무기와 방어구를 제작해, 17명의 다른 생존자들을 쓰러트리고 마지막까지 살아남아보세요. 전작 블랙서바이벌의 세계관을 공유하는 이터널 리턴은, 배틀로얄, MOBA, 서바이벌이 융합된 새로운 형태의 게임입니다.\n",
      "\n",
      "생존전략 플레이 게임\n",
      "탐색, 제작, 사냥, 전투 등 매 순간 어떤 행동을 할 지 선택하세요. 당신의 선택이 곧 전략입니다. 승리를 위한 전략을 세워 마지막까지 생존하세요.\n",
      "\n",
      "팀 모드\n",
      "솔로모드에서 다른 생존자를 모두 쓰러트리거나, 친구와 함께 팀을 맺어 새로운 시너지를 경험해 보세요. 듀오와 스쿼드 모드가 준비되어 있습니다.\n",
      "\n",
      "수많은 생존 아이템\n",
      "검, 총기, 수리검.. 심지어 대구 간 통조림까지, 수많은 아이템들이 준비되어있습니다. 각 캐릭터들은 서로 다른 무기를 사용할 수 있으며, 여러분의 생존에 필요한 효과를 지닌 방어구, 음식, 트랩 등이 준비되어 있습니다.\n",
      "\n",
      "각종 게임 요소\n",
      "게임의 기초를 익히셨다면, 그 다음은 응용편 입니다. 하이퍼루프를 이용해 맵 이곳저곳을 이동해 보세요. 보스 몬스터인 위클라인을 사냥하거나, 생명의 나무에서 전설급 아이템을 채집하고, 내가 만든 요리를 친구와 공유할 수도 있습니다.\n",
      "\n",
      "사용자 설정 대전\n",
      "친구들과 함께 게임을 즐기고 싶으신가요? 아니면 지역 대회를 열거나 참여해보고 싶으신가요? 그런 여러분을 위해 사용자 설정 대전을 준비했습니다. 친구들을 초대해 자유롭게 게임을 즐겨보세요.\n",
      "\n"
     ]
    }
   ],
   "source": [
    "from urllib import request\n",
    "from bs4 import BeautifulSoup\n",
    "\n",
    "target = request.urlopen(\"https://er.game.daum.net/guide/about\")\n",
    "soup = BeautifulSoup(target, 'html.parser')\n",
    "select_list = soup.select(\"#sectionAbout > div.section__wrap > div > div.about.about--pc > div.contents-about\")\n",
    "\n",
    "for guide in select_list:\n",
    "    content = guide.find_all(\"h4\")\n",
    "    desc = guide.find_all(\"p\")    \n",
    "\n",
    "for i in range(7):\n",
    "    content[i] = content[i].get_text()\n",
    "    desc[i] = str(desc[i].get_text())\n",
    "    desc[i] = ' '.join(desc[i].split())\n",
    "\n",
    "for i in range(7):\n",
    "    print(content[i],desc[i], sep = \"\\n\")\n",
    "    print()\n",
    "\n",
    "\n",
    "\n",
    "\n",
    "#문장 사이 공백 제거\n",
    "#desc = str(desc)\n",
    "#r = ' '.join(desc.split())\n",
    "#print(r)"
   ]
  },
  {
   "cell_type": "code",
   "execution_count": 105,
   "metadata": {},
   "outputs": [
    {
     "name": "stdout",
     "output_type": "stream",
     "text": [
      "[공지사항]Daum아이디로그인서비스중단및카카오계정통합사전안내\n",
      "베스트\n",
      "\n",
      "[공지사항]카카오계정으로이벤트참여가안되는경우해결방법안내\n",
      "베스트\n",
      "\n",
      "[공지사항][초보자가이드]특성한방정리!\n",
      "베스트\n",
      "\n",
      "[공지사항][초보자가이드]초보자를위한공략영상모음집\n",
      "베스트\n",
      "\n",
      "[공지사항]이터널리턴로드맵\n",
      "베스트\n",
      "\n",
      "[캐릭터소식][신규캐릭터]마르티나집중조명\n",
      "\n",
      "\n",
      "[캐릭터소식][신규캐릭터]헤이즈컨셉아트\n",
      "\n",
      "\n",
      "[캐릭터소식][신규캐릭터]피올로집중조명\n",
      "\n",
      "\n",
      "[캐릭터소식][신규캐릭터]에스텔집중조명\n",
      "\n",
      "\n",
      "[캐릭터소식][신규캐릭터]마르티나컨셉아트\n",
      "\n",
      "\n",
      "[캐릭터소식][신규캐릭터]칼라집중조명\n",
      "\n",
      "\n",
      "[캐릭터소식][신규캐릭터]피올로컨셉아트\n",
      "\n",
      "\n",
      "[캐릭터소식][신규캐릭터]마커스집중조명\n",
      "\n",
      "\n",
      "[캐릭터소식][신규캐릭터]에스텔컨셉아트\n",
      "\n",
      "\n",
      "[캐릭터소식][신규캐릭터]아디나집중조명\n",
      "\n",
      "\n",
      "[캐릭터소식][신규캐릭터]칼라컨셉아트공개\n",
      "\n",
      "\n",
      "[캐릭터소식][신규캐릭터]프리야집중조명(영상공개)\n",
      "\n"
     ]
    }
   ],
   "source": [
    "from urllib import request\n",
    "from bs4 import BeautifulSoup\n",
    "\n",
    "target = request.urlopen(\"https://bbs.er.game.daum.net/gaia/do/er/notice/list?bbsId=ERN001&objCate1=297\")\n",
    "soup = BeautifulSoup(target, \"html.parser\")\n",
    "select_list = soup.select(\"#sectionBoardIndex > div > div > div.board-index.board-index--type-list > div > ol\")\n",
    "#select_list = str(select_list[0].get_text())\n",
    "#select_list = ' '.join(select_list.split())\n",
    "#print(select_list)\n",
    "\n",
    "for board in select_list:\n",
    "    content = board.find_all(\"a\")\n",
    "\n",
    "for i in range(50):\n",
    "    content[i] = content[i].get_text().replace('\\n','')\n",
    "    content[i] =     ''.join(content[i].split())\n",
    "    print(content[i])    "
   ]
  },
  {
   "cell_type": "code",
   "execution_count": null,
   "metadata": {},
   "outputs": [],
   "source": []
  }
 ],
 "metadata": {
  "kernelspec": {
   "display_name": "Python 3.10.6 64-bit",
   "language": "python",
   "name": "python3"
  },
  "language_info": {
   "codemirror_mode": {
    "name": "ipython",
    "version": 3
   },
   "file_extension": ".py",
   "mimetype": "text/x-python",
   "name": "python",
   "nbconvert_exporter": "python",
   "pygments_lexer": "ipython3",
   "version": "3.10.6"
  },
  "orig_nbformat": 4,
  "vscode": {
   "interpreter": {
    "hash": "c3fab59af8123f9cfec183dc028d1fc14b465e0637f838ba64851bcf78e06788"
   }
  }
 },
 "nbformat": 4,
 "nbformat_minor": 2
}
